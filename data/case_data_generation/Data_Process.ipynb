{
 "cells": [
  {
   "cell_type": "markdown",
   "id": "9cfe714a",
   "metadata": {},
   "source": [
    "# 数据预处理（非救援优先级指标计算）"
   ]
  },
  {
   "cell_type": "code",
   "execution_count": 1,
   "id": "a2405497",
   "metadata": {
    "ExecuteTime": {
     "end_time": "2025-07-21T09:48:02.490270Z",
     "start_time": "2025-07-21T09:48:00.652732Z"
    }
   },
   "outputs": [
    {
     "data": {
      "text/html": [
       "<div>\n",
       "<style scoped>\n",
       "    .dataframe tbody tr th:only-of-type {\n",
       "        vertical-align: middle;\n",
       "    }\n",
       "\n",
       "    .dataframe tbody tr th {\n",
       "        vertical-align: top;\n",
       "    }\n",
       "\n",
       "    .dataframe thead th {\n",
       "        text-align: right;\n",
       "    }\n",
       "</style>\n",
       "<table border=\"1\" class=\"dataframe\">\n",
       "  <thead>\n",
       "    <tr style=\"text-align: right;\">\n",
       "      <th></th>\n",
       "      <th>latitude</th>\n",
       "      <th>longitude</th>\n",
       "      <th>Building_Damage_degree</th>\n",
       "      <th>Road_Damage_degree</th>\n",
       "      <th>popul_number</th>\n",
       "      <th>victim_number</th>\n",
       "      <th>demand</th>\n",
       "      <th>startTime</th>\n",
       "      <th>endTime</th>\n",
       "    </tr>\n",
       "  </thead>\n",
       "  <tbody>\n",
       "    <tr>\n",
       "      <th>0</th>\n",
       "      <td>29.940088</td>\n",
       "      <td>-85.406021</td>\n",
       "      <td>1.000000</td>\n",
       "      <td>0.0</td>\n",
       "      <td>362.8840</td>\n",
       "      <td>362.8840</td>\n",
       "      <td>36.288400</td>\n",
       "      <td>166</td>\n",
       "      <td>180</td>\n",
       "    </tr>\n",
       "    <tr>\n",
       "      <th>1</th>\n",
       "      <td>29.939969</td>\n",
       "      <td>-85.406125</td>\n",
       "      <td>0.970277</td>\n",
       "      <td>0.0</td>\n",
       "      <td>292.3125</td>\n",
       "      <td>283.6240</td>\n",
       "      <td>28.623055</td>\n",
       "      <td>325</td>\n",
       "      <td>354</td>\n",
       "    </tr>\n",
       "    <tr>\n",
       "      <th>2</th>\n",
       "      <td>29.939882</td>\n",
       "      <td>-85.405887</td>\n",
       "      <td>0.978467</td>\n",
       "      <td>0.0</td>\n",
       "      <td>285.8180</td>\n",
       "      <td>279.6635</td>\n",
       "      <td>28.150985</td>\n",
       "      <td>587</td>\n",
       "      <td>636</td>\n",
       "    </tr>\n",
       "    <tr>\n",
       "      <th>3</th>\n",
       "      <td>29.939995</td>\n",
       "      <td>-85.405787</td>\n",
       "      <td>0.990771</td>\n",
       "      <td>0.0</td>\n",
       "      <td>277.9160</td>\n",
       "      <td>275.3510</td>\n",
       "      <td>27.612050</td>\n",
       "      <td>640</td>\n",
       "      <td>667</td>\n",
       "    </tr>\n",
       "    <tr>\n",
       "      <th>4</th>\n",
       "      <td>29.937401</td>\n",
       "      <td>-85.401884</td>\n",
       "      <td>1.000000</td>\n",
       "      <td>0.0</td>\n",
       "      <td>266.2275</td>\n",
       "      <td>266.2275</td>\n",
       "      <td>26.622750</td>\n",
       "      <td>1201</td>\n",
       "      <td>1250</td>\n",
       "    </tr>\n",
       "    <tr>\n",
       "      <th>...</th>\n",
       "      <td>...</td>\n",
       "      <td>...</td>\n",
       "      <td>...</td>\n",
       "      <td>...</td>\n",
       "      <td>...</td>\n",
       "      <td>...</td>\n",
       "      <td>...</td>\n",
       "      <td>...</td>\n",
       "      <td>...</td>\n",
       "    </tr>\n",
       "    <tr>\n",
       "      <th>3598</th>\n",
       "      <td>29.942646</td>\n",
       "      <td>-85.404762</td>\n",
       "      <td>1.000000</td>\n",
       "      <td>0.0</td>\n",
       "      <td>1.1995</td>\n",
       "      <td>1.1995</td>\n",
       "      <td>0.119950</td>\n",
       "      <td>268</td>\n",
       "      <td>301</td>\n",
       "    </tr>\n",
       "    <tr>\n",
       "      <th>3599</th>\n",
       "      <td>29.944900</td>\n",
       "      <td>-85.415686</td>\n",
       "      <td>1.000000</td>\n",
       "      <td>0.0</td>\n",
       "      <td>1.0560</td>\n",
       "      <td>1.0560</td>\n",
       "      <td>0.105600</td>\n",
       "      <td>659</td>\n",
       "      <td>670</td>\n",
       "    </tr>\n",
       "    <tr>\n",
       "      <th>3600</th>\n",
       "      <td>29.942805</td>\n",
       "      <td>-85.401545</td>\n",
       "      <td>1.000000</td>\n",
       "      <td>0.0</td>\n",
       "      <td>1.0495</td>\n",
       "      <td>1.0495</td>\n",
       "      <td>0.104950</td>\n",
       "      <td>1276</td>\n",
       "      <td>1329</td>\n",
       "    </tr>\n",
       "    <tr>\n",
       "      <th>3601</th>\n",
       "      <td>29.950900</td>\n",
       "      <td>-85.428561</td>\n",
       "      <td>1.000000</td>\n",
       "      <td>0.0</td>\n",
       "      <td>0.0305</td>\n",
       "      <td>0.0305</td>\n",
       "      <td>0.003050</td>\n",
       "      <td>683</td>\n",
       "      <td>730</td>\n",
       "    </tr>\n",
       "    <tr>\n",
       "      <th>3602</th>\n",
       "      <td>29.932802</td>\n",
       "      <td>-85.397345</td>\n",
       "      <td>0.000000</td>\n",
       "      <td>0.0</td>\n",
       "      <td>3.2345</td>\n",
       "      <td>0.0000</td>\n",
       "      <td>0.097035</td>\n",
       "      <td>849</td>\n",
       "      <td>877</td>\n",
       "    </tr>\n",
       "  </tbody>\n",
       "</table>\n",
       "<p>3122 rows × 9 columns</p>\n",
       "</div>"
      ],
      "text/plain": [
       "       latitude  longitude  Building_Damage_degree  Road_Damage_degree  \\\n",
       "0     29.940088 -85.406021                1.000000                 0.0   \n",
       "1     29.939969 -85.406125                0.970277                 0.0   \n",
       "2     29.939882 -85.405887                0.978467                 0.0   \n",
       "3     29.939995 -85.405787                0.990771                 0.0   \n",
       "4     29.937401 -85.401884                1.000000                 0.0   \n",
       "...         ...        ...                     ...                 ...   \n",
       "3598  29.942646 -85.404762                1.000000                 0.0   \n",
       "3599  29.944900 -85.415686                1.000000                 0.0   \n",
       "3600  29.942805 -85.401545                1.000000                 0.0   \n",
       "3601  29.950900 -85.428561                1.000000                 0.0   \n",
       "3602  29.932802 -85.397345                0.000000                 0.0   \n",
       "\n",
       "      popul_number  victim_number     demand  startTime  endTime  \n",
       "0         362.8840       362.8840  36.288400        166      180  \n",
       "1         292.3125       283.6240  28.623055        325      354  \n",
       "2         285.8180       279.6635  28.150985        587      636  \n",
       "3         277.9160       275.3510  27.612050        640      667  \n",
       "4         266.2275       266.2275  26.622750       1201     1250  \n",
       "...            ...            ...        ...        ...      ...  \n",
       "3598        1.1995         1.1995   0.119950        268      301  \n",
       "3599        1.0560         1.0560   0.105600        659      670  \n",
       "3600        1.0495         1.0495   0.104950       1276     1329  \n",
       "3601        0.0305         0.0305   0.003050        683      730  \n",
       "3602        3.2345         0.0000   0.097035        849      877  \n",
       "\n",
       "[3122 rows x 9 columns]"
      ]
     },
     "execution_count": 1,
     "metadata": {},
     "output_type": "execute_result"
    }
   ],
   "source": [
    "import pandas as pd\n",
    "import numpy as np\n",
    "\n",
    "# 时间窗生成函数（秒为单位）\n",
    "def generate_time_windows(df, start_Time=0, end_Time=1440, min_window=5, max_window=60):\n",
    "    \"\"\"\n",
    "    为需求点生成服务时间窗（秒为单位）\n",
    "    \n",
    "    参数:\n",
    "    df: 输入的DataFrame\n",
    "    start_Time: 起始时间范围（24小时制）\n",
    "    end_Time: 结束时间范围（24小时制）\n",
    "    min_window: 最小时间窗长度（分钟）\n",
    "    max_window: 最大时间窗长度（分钟）\n",
    "    \"\"\"\n",
    "    # 将分钟转换为秒\n",
    "    min_window_seconds = min_window\n",
    "    max_window_seconds = max_window\n",
    "    \n",
    "    # 计算起始时间范围（秒）\n",
    "    start_min = start_Time  \n",
    "    start_max = end_Time    \n",
    "    \n",
    "    # 生成随机起始时间（秒）\n",
    "    start_times = np.random.randint(start_min, start_max, len(df))\n",
    "    \n",
    "    # 生成随机服务时长（秒）\n",
    "    durations = np.random.randint(min_window_seconds, max_window_seconds + 1, len(df))\n",
    "    \n",
    "    # 计算结束时间（秒）\n",
    "    end_times = start_times + durations\n",
    "    \n",
    "    # 存储为整数秒值\n",
    "    df['startTime'] = start_times\n",
    "    df['endTime'] = end_times\n",
    "    \n",
    "    return df\n",
    "\n",
    "# 数据预处理流程\n",
    "# 1. 读取Excel文件\n",
    "df = pd.read_excel('Image_Summary.xlsx', sheet_name='image_summary')\n",
    "\n",
    "# 2. 筛选需要的列\n",
    "selected_columns = [\n",
    "    'latitude', 'longitude', 'Total_Damage_Building_area', 'Total_Building_area',\n",
    "    'Building-No-Damage_area', 'Road-Clear_area', 'Road-Blocked_area'\n",
    "]\n",
    "df = df[selected_columns]\n",
    "\n",
    "# 3. 过滤非零行\n",
    "filter_condition = (\n",
    "    (df['Total_Damage_Building_area'] != 0) |\n",
    "    (df['Building-No-Damage_area'] != 0) |\n",
    "    (df['Road-Clear_area'] != 0) |\n",
    "    (df['Road-Blocked_area'] != 0)\n",
    ")\n",
    "\n",
    "df_filter = df[filter_condition].reset_index(drop=True)\n",
    "# 房屋损害程度标定\n",
    "df_filter = df_filter[df_filter['Total_Building_area'] != 0]\n",
    "df_filter['Building_Damage_degree'] = df_filter['Total_Damage_Building_area'] / df_filter['Total_Building_area']\n",
    "# 道路受损程度标定\n",
    "df_filter['Road_Damage_degree'] = df_filter['Road-Blocked_area'] / (df_filter['Road-Clear_area'] + df_filter['Road-Blocked_area'])\n",
    "df_filter['Road_Damage_degree'].fillna(0,inplace=True)  # 无道路标识道路非受损\n",
    "# 人口估算\n",
    "df_filter['popul_number'] = df_filter['Total_Building_area'] * 0.0005  # 每100m×100m区的人口\n",
    "# 受灾人数估算\n",
    "df_filter['victim_number'] = df_filter['popul_number'] * df_filter['Building_Damage_degree']  # 每100m×100m区的人口受灾率\n",
    "# 需求量估算\n",
    "omiga, demand_rate = 0.3, 0.1   # 受灾人员物资需求权重、需求量（kg）/人\n",
    "df_filter[\"demand\"] = (omiga * df_filter['popul_number'] + (1 - omiga) * df_filter['victim_number']) * demand_rate\n",
    "# 生成时间窗（秒为单位）\n",
    "df_filter = generate_time_windows(\n",
    "    df_filter, \n",
    "    start_Time=0, \n",
    "    end_Time=1380, \n",
    "    min_window=5, \n",
    "    max_window=60\n",
    ")\n",
    "\n",
    "df_filter = df_filter.iloc[:,[0,1,7,8,9,10,11,12,13]]\n",
    "df_filter"
   ]
  },
  {
   "cell_type": "markdown",
   "id": "50be7ce7",
   "metadata": {},
   "source": [
    "# 救援优先级指标计算"
   ]
  },
  {
   "cell_type": "code",
   "execution_count": 2,
   "id": "4c89579a",
   "metadata": {
    "ExecuteTime": {
     "end_time": "2025-07-21T09:53:28.650810Z",
     "start_time": "2025-07-21T09:53:28.643753Z"
    }
   },
   "outputs": [],
   "source": [
    "df = df_filter.iloc[:,2:6]  # 筛选救援优先级指标计算的有效列"
   ]
  },
  {
   "cell_type": "markdown",
   "id": "eab33ec8",
   "metadata": {},
   "source": [
    "## 数据去量纲化"
   ]
  },
  {
   "cell_type": "code",
   "execution_count": 3,
   "id": "2169aec0",
   "metadata": {
    "ExecuteTime": {
     "end_time": "2025-07-21T09:53:44.441122Z",
     "start_time": "2025-07-21T09:53:44.155888Z"
    }
   },
   "outputs": [
    {
     "data": {
      "text/plain": [
       "array([[9.99998000e-07, 9.99999000e-01, 9.99999997e-01, 2.75570152e-09],\n",
       "       [2.97242675e-02, 9.99999000e-01, 8.05509660e-01, 2.18416906e-01],\n",
       "       [2.15338905e-02, 9.99999000e-01, 7.87611252e-01, 2.29330862e-01],\n",
       "       ...,\n",
       "       [9.99998000e-07, 9.99999000e-01, 2.80829865e-03, 9.97107888e-01],\n",
       "       [9.99998000e-07, 9.99999000e-01, 2.75593316e-09, 9.99915948e-01],\n",
       "       [9.99999000e-01, 9.99999000e-01, 8.83001261e-03, 9.99999997e-01]])"
      ]
     },
     "execution_count": 3,
     "metadata": {},
     "output_type": "execute_result"
    }
   ],
   "source": [
    "import pandas as pd\n",
    "import numpy as np\n",
    "from scipy.stats import pearsonr\n",
    "\n",
    "# 数据标准化函数\n",
    "def normalize_with_direction(data, cost_indices):\n",
    "    \"\"\"\n",
    "    基于指标方向的数据标准化\n",
    "    :param data: NumPy数组 (n_samples, n_features)\n",
    "    :param cost_indices: 负向指标索引列表\n",
    "    :return: 标准化数据\n",
    "    \"\"\"\n",
    "    normalized = data.copy().astype(float)  # 确保为浮点型\n",
    "    \n",
    "    # 处理每个指标\n",
    "    for col_idx in range(data.shape[1]):\n",
    "        col_data = data[:, col_idx]\n",
    "        \n",
    "        epsilon = 1e-6\n",
    "        col_min = np.min(col_data) - epsilon\n",
    "        col_max = np.max(col_data) + epsilon\n",
    "        \n",
    "        if col_idx in cost_indices:  # 负向指标（成本型指标）\n",
    "            normalized[:, col_idx] = (col_max - col_data) / (col_max - col_min)\n",
    "        else:  # 正向指标（效益型指标）\n",
    "            normalized[:, col_idx] = (col_data - col_min) / (col_max - col_min)\n",
    "    \n",
    "    return normalized\n",
    "\n",
    "# 数据列赋名\n",
    "criteria_names = ['C1', 'C2', 'C3', 'C4']\n",
    "data_array = df.iloc[:, :].to_numpy() \n",
    "\n",
    "# 归一化（行-样本；列-属性）\n",
    "after_data = normalize_with_direction(data_array, [0,1,3])\n",
    "after_data"
   ]
  },
  {
   "cell_type": "markdown",
   "id": "ed86bbfe",
   "metadata": {},
   "source": [
    "## Entropy指标"
   ]
  },
  {
   "cell_type": "code",
   "execution_count": 4,
   "id": "cb7be288",
   "metadata": {
    "ExecuteTime": {
     "end_time": "2025-07-21T09:54:02.371438Z",
     "start_time": "2025-07-21T09:54:02.352294Z"
    }
   },
   "outputs": [
    {
     "name": "stdout",
     "output_type": "stream",
     "text": [
      "熵权法权重: {'C1': 0.70390744, 'C2': 0.06726556, 'C3': 0.22346946, 'C4': 0.00535753}\n"
     ]
    }
   ],
   "source": [
    "def entropy_weight(matrix):\n",
    "    # 计算比重\n",
    "    y = matrix / np.sum(matrix, axis=0)\n",
    "\n",
    "    # 计算熵值\n",
    "    k = 1 / np.log(matrix.shape[0])\n",
    "    e = -k * np.sum(y * np.log(y + 1e-10), axis=0)  # 避免log(0)\n",
    "\n",
    "    # 计算权重\n",
    "    v = 1 - e\n",
    "    weights = v / np.sum(v)\n",
    "    return weights\n",
    "\n",
    "entropy_weights = entropy_weight(after_data)\n",
    "print(\"熵权法权重:\", dict(zip(criteria_names, np.round(entropy_weights, 8))))"
   ]
  },
  {
   "cell_type": "markdown",
   "id": "fd0fcad2",
   "metadata": {},
   "source": [
    "## CRITIC指标"
   ]
  },
  {
   "cell_type": "code",
   "execution_count": 5,
   "id": "6d5d4b62",
   "metadata": {
    "ExecuteTime": {
     "end_time": "2025-07-21T09:56:46.779905Z",
     "start_time": "2025-07-21T09:56:46.763181Z"
    }
   },
   "outputs": [
    {
     "name": "stdout",
     "output_type": "stream",
     "text": [
      "CRITIC权重: {'C1': 0.39556479, 'C2': 0.43392476, 'C3': 0.08680439, 'C4': 0.08370606}\n"
     ]
    }
   ],
   "source": [
    "def critic_weight(matrix):\n",
    "    # 计算标准差\n",
    "    std = np.std(matrix, axis=0, ddof=1)\n",
    "    \n",
    "    # 计算相关系数和冲突性\n",
    "    n_criteria = matrix.shape[1]\n",
    "    correlation = np.zeros((n_criteria, n_criteria))\n",
    "    for i in range(n_criteria):\n",
    "        for j in range(n_criteria):\n",
    "            correlation[i, j], _ = pearsonr(matrix[:, i], matrix[:, j])\n",
    "    \n",
    "    conflict = np.sum(1 - np.abs(correlation), axis=1)\n",
    "    \n",
    "    # 计算信息量\n",
    "    information = std * conflict\n",
    "    \n",
    "    # 计算权重\n",
    "    weights = information / np.sum(information)\n",
    "    return weights\n",
    "\n",
    "critic_weights = critic_weight(after_data)\n",
    "print(\"CRITIC权重:\", dict(zip(criteria_names, np.round(critic_weights, 8))))"
   ]
  },
  {
   "cell_type": "markdown",
   "id": "8466a92a",
   "metadata": {},
   "source": [
    "## 复合权重计算（Entropy  and  CRITIC）"
   ]
  },
  {
   "cell_type": "code",
   "execution_count": 6,
   "id": "05a7fb8a",
   "metadata": {
    "ExecuteTime": {
     "end_time": "2025-07-21T09:56:48.846177Z",
     "start_time": "2025-07-21T09:56:48.827032Z"
    }
   },
   "outputs": [
    {
     "name": "stdout",
     "output_type": "stream",
     "text": [
      "组合权重: {'C1': 0.8502644, 'C2': 0.08913084, 'C3': 0.05923531, 'C4': 0.00136944}\n"
     ]
    }
   ],
   "source": [
    "def combined_weight(w_entropy, w_critic):\n",
    "    # 乘法合成\n",
    "    combined = w_entropy * w_critic\n",
    "    # 归一化\n",
    "    normalized = combined / np.sum(combined)\n",
    "    return normalized\n",
    "\n",
    "final_weights = combined_weight(entropy_weights, critic_weights)\n",
    "print(\"组合权重:\", dict(zip(criteria_names, np.round(final_weights, 8))))"
   ]
  },
  {
   "cell_type": "markdown",
   "id": "cc9135fb",
   "metadata": {},
   "source": [
    "## VIKOR排序"
   ]
  },
  {
   "cell_type": "code",
   "execution_count": 9,
   "id": "2cde83de",
   "metadata": {
    "ExecuteTime": {
     "end_time": "2025-07-21T10:00:50.367137Z",
     "start_time": "2025-07-21T10:00:50.352579Z"
    }
   },
   "outputs": [],
   "source": [
    "def vikor(matrix, weights, alpha=0.5):\n",
    "    # 确定理想解\n",
    "    mask = np.ones(matrix.shape[1], dtype=bool)\n",
    "    \n",
    "    ideal_best = np.where(mask, np.max(matrix, axis=0), np.min(matrix, axis=0))\n",
    "    ideal_worst = np.where(mask, np.min(matrix, axis=0), np.max(matrix, axis=0))\n",
    "    \n",
    "    # 计算S和R值\n",
    "    S = np.sum(weights * (ideal_best - matrix) / (ideal_best - ideal_worst + 1e-10), axis=1)\n",
    "    R = np.max(weights * (ideal_best - matrix) / (ideal_best - ideal_worst + 1e-10), axis=1)\n",
    "    \n",
    "    # 计算Q值\n",
    "    S_min, S_max = np.min(S), np.max(S)\n",
    "    R_min, R_max = np.min(R), np.max(R)\n",
    "    Q = alpha * (S - S_min)/(S_max - S_min) + (1 - alpha) * (R - R_min)/(R_max - R_min)\n",
    "    \n",
    "    # 生成排序\n",
    "    ranking = np.argsort(Q)\n",
    "    return Q, ranking\n",
    "\n",
    "Q_values, ranking = vikor(after_data, final_weights)"
   ]
  },
  {
   "cell_type": "markdown",
   "id": "5b7518b4",
   "metadata": {},
   "source": [
    "## 数据保存"
   ]
  },
  {
   "cell_type": "code",
   "execution_count": 10,
   "id": "1a9ae053",
   "metadata": {
    "ExecuteTime": {
     "end_time": "2025-07-21T10:00:54.204936Z",
     "start_time": "2025-07-21T10:00:53.863008Z"
    }
   },
   "outputs": [],
   "source": [
    "df_filter['Prority'] = Q_values.tolist()   # 添加优先级数据列\n",
    "# df_filter = df_filter.loc[:,['latitude','longitude','demand','startTime','endTime','Prority']]\n",
    "df_filter.to_excel(r'./fin_data.xlsx')"
   ]
  }
 ],
 "metadata": {
  "kernelspec": {
   "display_name": "Python 3 (ipykernel)",
   "language": "python",
   "name": "python3"
  },
  "language_info": {
   "codemirror_mode": {
    "name": "ipython",
    "version": 3
   },
   "file_extension": ".py",
   "mimetype": "text/x-python",
   "name": "python",
   "nbconvert_exporter": "python",
   "pygments_lexer": "ipython3",
   "version": "3.9.12"
  },
  "toc": {
   "base_numbering": 1,
   "nav_menu": {},
   "number_sections": true,
   "sideBar": true,
   "skip_h1_title": false,
   "title_cell": "Table of Contents",
   "title_sidebar": "Contents",
   "toc_cell": false,
   "toc_position": {},
   "toc_section_display": true,
   "toc_window_display": false
  },
  "varInspector": {
   "cols": {
    "lenName": 16,
    "lenType": 16,
    "lenVar": 40
   },
   "kernels_config": {
    "python": {
     "delete_cmd_postfix": "",
     "delete_cmd_prefix": "del ",
     "library": "var_list.py",
     "varRefreshCmd": "print(var_dic_list())"
    },
    "r": {
     "delete_cmd_postfix": ") ",
     "delete_cmd_prefix": "rm(",
     "library": "var_list.r",
     "varRefreshCmd": "cat(var_dic_list()) "
    }
   },
   "types_to_exclude": [
    "module",
    "function",
    "builtin_function_or_method",
    "instance",
    "_Feature"
   ],
   "window_display": false
  }
 },
 "nbformat": 4,
 "nbformat_minor": 5
}
